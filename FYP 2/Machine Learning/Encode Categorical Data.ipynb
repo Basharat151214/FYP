{
 "cells": [
  {
   "cell_type": "code",
   "execution_count": 1,
   "id": "98ddd1dd",
   "metadata": {},
   "outputs": [],
   "source": [
    "#ML_preprocess_data.csv"
   ]
  },
  {
   "cell_type": "code",
   "execution_count": 2,
   "id": "9dbfeee4",
   "metadata": {},
   "outputs": [
    {
     "name": "stdout",
     "output_type": "stream",
     "text": [
      "      names    degree_title\n",
      "0  person_0            Sc.B\n",
      "1  person_1            S.B.\n",
      "2  person_2     Dual Degree\n",
      "3  person_3   BEng. 2master\n",
      "4  person_4         M.Phil.\n",
      "5  person_5  Masters degree\n"
     ]
    }
   ],
   "source": [
    "import pandas as pd\n",
    "import numpy as np\n",
    "\n",
    "your_list = np.array(['Sc.B','S.B.','Dual Degree','BEng. 2master','M.Phil.','Masters degree'])\n",
    "names = np.array([f\"person_{ii}\" for ii in range(len(your_list))])\n",
    "\n",
    "df = pd.DataFrame({\"names\": names, \"degree_title\": your_list})\n",
    "print(df)"
   ]
  },
  {
   "cell_type": "code",
   "execution_count": 3,
   "id": "044056a0",
   "metadata": {},
   "outputs": [
    {
     "name": "stdout",
     "output_type": "stream",
     "text": [
      "no classification found for Sc.B\n",
      "no classification found for S.B.\n",
      "no classification found for Dual Degree\n",
      "no classification found for M.Phil.\n"
     ]
    }
   ],
   "source": [
    "new_classifications = [] # Make an empty list so we can keep track of what we classify the new degree as.\n",
    "\n",
    "for degree in df[\"degree_title\"]:\n",
    "    if \"bachelor\" in degree.lower(): # lower() as we don't care if it's \"Bachelor\" or \"bachelor\"\n",
    "        new_classifications.append(\"bachelor\") # Anything here is good enough to be called \"bachelor\"\n",
    "    elif \"master\" in degree.lower():\n",
    "        new_classifications.append(\"master\")\n",
    "    elif \"doctorate\" in degree.lower():\n",
    "        new_classification.append(\"phd\")\n",
    "    else:\n",
    "        new_classifications.append(\"unclassified\")\n",
    "        print(f\"no classification found for {degree}\")"
   ]
  },
  {
   "cell_type": "code",
   "execution_count": 4,
   "id": "1ad95fb7",
   "metadata": {},
   "outputs": [
    {
     "name": "stdout",
     "output_type": "stream",
     "text": [
      "no classification found for Sc.B\n",
      "no classification found for Dual Degree\n"
     ]
    }
   ],
   "source": [
    "new_classifications = [] \n",
    "\n",
    "for degree in df[\"degree_title\"]:\n",
    "    if \"bachelor\" in degree.lower() or degree.lower().startswith(\"b\") or \"b.\" in degree.lower():\n",
    "        new_classifications.append(\"bachelor\")\n",
    "    elif \"B\" in degree and degree.isupper(): # Also require the whole title to be uppercase \n",
    "        new_classifications.append(\"bachelor\")\n",
    "    elif \"master\" in degree.lower() or degree.lower().startswith(\"m\") or \"m.\" in degree.lower():\n",
    "        new_classifications.append(\"master\")\n",
    "    elif \"M\" in degree and degree.isupper():\n",
    "        new_classifications.append(\"master\")\n",
    "    elif \"doctorate\" in degree.lower():\n",
    "        new_classification.append(\"phd\")\n",
    "    elif degree in [\"Diplom\", \"Fellowship\", \"CPA\", \"Specialisation\", \"Graduate Diploma\"]:\n",
    "        new_classifications.append(\"some_classification_that_you_write_for_these_edge_cases\")\n",
    "    else:\n",
    "        new_classifications.append(\"unclassified\")\n",
    "        print(f\"no classification found for {degree}\")"
   ]
  },
  {
   "cell_type": "code",
   "execution_count": 5,
   "id": "dae69c88",
   "metadata": {},
   "outputs": [
    {
     "name": "stdout",
     "output_type": "stream",
     "text": [
      "      names    degree_title new_classification\n",
      "0  person_0            Sc.B       unclassified\n",
      "1  person_1            S.B.           bachelor\n",
      "2  person_2     Dual Degree       unclassified\n",
      "3  person_3   BEng. 2master           bachelor\n",
      "4  person_4         M.Phil.             master\n",
      "5  person_5  Masters degree             master\n"
     ]
    }
   ],
   "source": [
    "df[\"new_classification\"] = new_classifications\n",
    "print(df)"
   ]
  },
  {
   "cell_type": "code",
   "execution_count": null,
   "id": "9de5e13f",
   "metadata": {},
   "outputs": [],
   "source": []
  }
 ],
 "metadata": {
  "kernelspec": {
   "display_name": "Python 3",
   "language": "python",
   "name": "python3"
  },
  "language_info": {
   "codemirror_mode": {
    "name": "ipython",
    "version": 3
   },
   "file_extension": ".py",
   "mimetype": "text/x-python",
   "name": "python",
   "nbconvert_exporter": "python",
   "pygments_lexer": "ipython3",
   "version": "3.9.5"
  }
 },
 "nbformat": 4,
 "nbformat_minor": 5
}
